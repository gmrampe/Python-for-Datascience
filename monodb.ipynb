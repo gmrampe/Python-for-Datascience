{
 "cells": [
  {
   "cell_type": "markdown",
   "id": "2fec03e2-df61-4273-9183-93d508c4fc32",
   "metadata": {},
   "source": [
    "What is MongoDB? Explain non-relational databases in short. In which scenarios it is preferred to use\n",
    "MongoDB over SQL databases?"
   ]
  },
  {
   "cell_type": "markdown",
   "id": "7d51da5b-a601-44a2-b0fe-d88717e9147d",
   "metadata": {},
   "source": [
    "MongoDB is a document-oriented NoSQL database that is designed to store and manage unstructured and semi-structured data. It is an open-source, cross-platform, high-performance, and scalable database that uses a JSON-like document format to store data.\n",
    "\n",
    "Non-relational databases, also known as NoSQL databases, are databases that are designed to store and manage unstructured or semi-structured data that cannot be easily represented in a tabular form. Unlike traditional relational databases that store data in tables with rows and columns, NoSQL databases store data in documents, key-value pairs, or graph structures."
   ]
  },
  {
   "cell_type": "markdown",
   "id": "dfa9b5da-7dc1-4603-8160-14c5febbd1d5",
   "metadata": {},
   "source": [
    "MongoDB is preferred over SQL databases in scenarios where:\n",
    "\n",
    "Scalability: MongoDB is designed to scale horizontally and can handle large amounts of unstructured data, making it a preferred choice for high-performance applications that need to handle large volumes of data.\n",
    "\n",
    "Flexibility: MongoDB is schema-less, which means that data can be stored in a more flexible and dynamic way, without needing to define a strict schema beforehand. This makes it easier to handle data that has a varying structure or that evolves over time.\n",
    "\n",
    "Performance: MongoDB's document-oriented approach allows for faster queries and indexing of data, which can result in faster query response times than traditional SQL databases.\n",
    "\n",
    "High availability: MongoDB provides built-in replication and sharding capabilities, which make it easy to distribute data across multiple servers and ensure high availability and fault tolerance.\n",
    "\n",
    "Cost-effectiveness: MongoDB is open source and can be used for free, which makes it a cost-effective alternative to traditional SQL databases that require expensive licenses."
   ]
  },
  {
   "cell_type": "markdown",
   "id": "16433e0f-55ad-4af3-bb3e-2ab7fec19dd1",
   "metadata": {},
   "source": [
    "State and Explain the features of MongoDB."
   ]
  },
  {
   "cell_type": "markdown",
   "id": "f3c07d2b-bb25-4502-a6d9-1958bc0408a1",
   "metadata": {},
   "source": [
    "MongoDB is a NoSQL document-oriented database that provides high scalability and flexibility. It has several features that make it a popular choice for developers and businesses, including:\n",
    "\n",
    "Document-oriented data model: MongoDB stores data in flexible, JSON-like documents, which can have nested structures. This makes it easy to represent complex data structures and relationships.\n",
    "\n",
    "High scalability: MongoDB is designed to scale horizontally across multiple servers, allowing for high scalability and availability.\n",
    "\n",
    "Dynamic schema: MongoDB's dynamic schema allows for easy modification of data models without having to modify the database schema.\n",
    "\n",
    "Indexing: MongoDB provides support for indexing, which allows for fast retrieval of data.\n",
    "\n",
    "Querying: MongoDB supports a powerful query language that allows for complex queries, including joins and aggregations.\n",
    "\n",
    "Sharding: MongoDB supports sharding, which allows for partitioning of data across multiple servers, further enhancing scalability.\n",
    "\n",
    "Replication: MongoDB supports automatic replication, which ensures high availability and fault tolerance.\n",
    "\n",
    "Built-in aggregation framework: MongoDB has a built-in aggregation framework that allows for advanced data processing and analytics.\n",
    "\n",
    "GridFS: MongoDB provides support for storing and retrieving large files, such as images and videos, using its GridFS feature.\n",
    "\n",
    "Overall, MongoDB's features make it a versatile and powerful database system that is well-suited for modern, data-intensive applications."
   ]
  },
  {
   "cell_type": "code",
   "execution_count": 4,
   "id": "a0cd0958-7c03-4b02-8d7c-eefcb37c6a64",
   "metadata": {},
   "outputs": [
    {
     "name": "stdout",
     "output_type": "stream",
     "text": [
      "Collecting pymongo\n",
      "  Downloading pymongo-4.3.3-cp310-cp310-manylinux_2_17_x86_64.manylinux2014_x86_64.whl (492 kB)\n",
      "\u001b[2K     \u001b[90m━━━━━━━━━━━━━━━━━━━━━━━━━━━━━━━━━━━━━━\u001b[0m \u001b[32m492.9/492.9 kB\u001b[0m \u001b[31m33.1 MB/s\u001b[0m eta \u001b[36m0:00:00\u001b[0m\n",
      "\u001b[?25hCollecting dnspython<3.0.0,>=1.16.0\n",
      "  Downloading dnspython-2.3.0-py3-none-any.whl (283 kB)\n",
      "\u001b[2K     \u001b[90m━━━━━━━━━━━━━━━━━━━━━━━━━━━━━━━━━━━━━━\u001b[0m \u001b[32m283.7/283.7 kB\u001b[0m \u001b[31m35.6 MB/s\u001b[0m eta \u001b[36m0:00:00\u001b[0m\n",
      "\u001b[?25hInstalling collected packages: dnspython, pymongo\n",
      "Successfully installed dnspython-2.3.0 pymongo-4.3.3\n",
      "Note: you may need to restart the kernel to use updated packages.\n"
     ]
    }
   ],
   "source": [
    "pip install pymongo"
   ]
  },
  {
   "cell_type": "markdown",
   "id": "61d56754-2957-4e85-a126-13e32b50f619",
   "metadata": {},
   "source": [
    "To connect MongoDB to Python, you will need to install the pymongo package which is the official Python driver for MongoDB. You can install it using pip by running the following command in your terminal or command prompt:\n",
    "\n"
   ]
  },
  {
   "cell_type": "code",
   "execution_count": 6,
   "id": "284f0f67-294b-467b-967d-7d4e5d2d47d8",
   "metadata": {},
   "outputs": [],
   "source": [
    "import pymongo\n",
    "\n",
    "# connect to MongoDB\n",
    "client = pymongo.MongoClient(\"mongodb://localhost:27017/\")\n",
    "\n",
    "# create a database\n",
    "mydb = client[\"mydatabase\"]\n",
    "\n",
    "# create a collection\n",
    "mycol = mydb[\"customers\"]\n",
    "#In the code above, we first import the pymongo package. We then connect to MongoDB by creating a MongoClient object and passing the URL of the MongoDB server as a parameter.Next, we create a database by accessing the mydatabase attribute of the client object. Finally, we create a collection by accessing the customers attribute of the mydb object.Note that if the database and collection do not already exist in MongoDB, they will be created automatically when you insert data into them."
   ]
  },
  {
   "cell_type": "code",
   "execution_count": 7,
   "id": "8d649dab-b434-4139-9f56-75cb09925ff5",
   "metadata": {},
   "outputs": [],
   "source": [
    "#Using the database and the collection created in question number 3, write a code to insert one record,and insert many records. Use the find() and find_one() methods to print the inserted record."
   ]
  },
  {
   "cell_type": "raw",
   "id": "c9c4e6a2-ced3-408d-adce-a1615e7b11c4",
   "metadata": {},
   "source": [
    "import pymongo\n",
    "\n",
    "# connect to MongoDB\n",
    "client = pymongo.MongoClient(\"mongodb://localhost:27017/\")\n",
    "mydb = client[\"mydatabase\"]\n",
    "mycol = mydb[\"customers\"]\n",
    "\n",
    "# insert one record\n",
    "mydict = {\"name\": \"John\", \"address\": \"Highway 37\"}\n",
    "x = mycol.insert_one(mydict)\n",
    "print(x.inserted_id)\n",
    "\n",
    "# insert many records\n",
    "mylist = [\n",
    "  {\"name\": \"Peter\", \"address\": \"Lowstreet 27\"},\n",
    "  {\"name\": \"Amy\", \"address\": \"Apple st 652\"},\n",
    "  {\"name\": \"Hannah\", \"address\": \"Mountain 21\"},\n",
    "  {\"name\": \"Michael\", \"address\": \"Valley 345\"},\n",
    "  {\"name\": \"Sandy\", \"address\": \"Ocean blvd 2\"},\n",
    "  {\"name\": \"Betty\", \"address\": \"Green Grass 1\"},\n",
    "  {\"name\": \"Richard\", \"address\": \"Sky st 331\"},\n",
    "  {\"name\": \"Susan\", \"address\": \"One way 98\"},\n",
    "  {\"name\": \"Vicky\", \"address\": \"Yellow Garden 2\"},\n",
    "  {\"name\": \"Ben\", \"address\": \"Park Lane 38\"},\n",
    "  {\"name\": \"William\", \"address\": \"Central st 954\"},\n",
    "  {\"name\": \"Chuck\", \"address\": \"Main Road 989\"},\n",
    "  {\"name\": \"Viola\", \"address\": \"Sideway 1633\"}\n",
    "]\n",
    "x = mycol.insert_many(mylist)\n",
    "print(x.inserted_ids)\n",
    "\n",
    "# print the inserted records\n",
    "print(\"One record:\")\n",
    "print(mycol.find_one())\n",
    "print(\"Many records:\")\n",
    "for x in mycol.find():\n",
    "    print(x)\n"
   ]
  },
  {
   "cell_type": "markdown",
   "id": "e9b900c4-6a36-48eb-8e5b-379d19ff25d5",
   "metadata": {},
   "source": [
    "In the code above, we first connect to the MongoDB server and get a reference to the customers collection we created earlier. We then insert one record into the collection using the insert_one() method and print the ID of the inserted record.\n",
    "\n",
    "Next, we insert multiple records into the collection using the insert_many() method and print the IDs of the inserted records.\n",
    "\n",
    "Finally, we use the find_one() method to print the first record in the collection and use the find() method to print all the records in the collection."
   ]
  },
  {
   "cell_type": "markdown",
   "id": "92198c1c-66a1-4fb5-8f80-4819fe96908a",
   "metadata": {},
   "source": [
    "Explain how you can use the find() method to query the MongoDB database. Write a simple code to\n",
    "demonstrate this."
   ]
  },
  {
   "cell_type": "raw",
   "id": "bdf6b83a-f1b1-44f4-a853-f869b70f157f",
   "metadata": {},
   "source": [
    "'''The find() method is used to query the MongoDB database and retrieve documents that match a specified set of criteria. It returns a cursor object that can be used to iterate over the documents that match the query.\n",
    "\n",
    "The find() method takes one or more optional parameters that can be used to specify the query criteria, sort order, projection (i.e. which fields to include or exclude from the results), and other options. Here's an example code that demonstrates how to use the find() method to query a MongoDB database:'''\n",
    "import pymongo\n",
    "\n",
    "# connect to MongoDB\n",
    "client = pymongo.MongoClient(\"mongodb://localhost:27017/\")\n",
    "mydb = client[\"mydatabase\"]\n",
    "mycol = mydb[\"customers\"]\n",
    "\n",
    "# find all documents in the collection\n",
    "for x in mycol.find():\n",
    "  print(x)\n",
    "\n",
    "# find documents that match a specified criteria\n",
    "myquery = {\"address\": \"Park Lane 38\"}\n",
    "mydoc = mycol.find(myquery)\n",
    "for x in mydoc:\n",
    "  print(x)\n",
    "\n",
    "# find documents that match a specified criteria and exclude certain fields\n",
    "myquery = {\"address\": {\"$regex\": \"^S\"}}\n",
    "myprojection = {\"_id\": 0, \"name\": 1, \"address\": 1}\n",
    "mydoc = mycol.find(myquery, myprojection)\n",
    "for x in mydoc:\n",
    "  print(x)\n",
    "\n",
    "In the code above, we first connect to the MongoDB server and get a reference to the customers collection. We then use the find() method to retrieve all documents in the collection and print them one by one.\n",
    "\n",
    "Next, we use the find() method again to retrieve only documents that match a specific criteria (i.e. where the address field is equal to \"Park Lane 38\") and print them.\n",
    "\n",
    "Finally, we use the find() method to retrieve documents that match a more complex criteria (i.e. where the address field starts with \"S\") and exclude the _id field from the results. We print these documents as well. Note that we used a regular expression (\"$regex\": \"^S\") to specify the pattern for the address field.\n"
   ]
  },
  {
   "cell_type": "raw",
   "id": "b1f12b25-2252-4098-8265-4dd6f64cdf91",
   "metadata": {},
   "source": [
    "The sort() method is used in MongoDB to sort the documents in a collection based on one or more fields. It takes one or more parameters that specify the fields to sort by and the sort order (i.e. ascending or descending).\n",
    "\n",
    "The sort() method can be used in conjunction with the find() method to sort the documents that match a specific query criteria. Here's an example code that demonstrates sorting in MongoDB:\n",
    "import pymongo\n",
    "\n",
    "# connect to MongoDB\n",
    "client = pymongo.MongoClient(\"mongodb://localhost:27017/\")\n",
    "mydb = client[\"mydatabase\"]\n",
    "mycol = mydb[\"customers\"]\n",
    "\n",
    "# sort the documents by the \"name\" field in ascending order\n",
    "mydoc = mycol.find().sort(\"name\")\n",
    "for x in mydoc:\n",
    "  print(x)\n",
    "\n",
    "# sort the documents by the \"name\" field in descending order\n",
    "mydoc = mycol.find().sort(\"name\", -1)\n",
    "for x in mydoc:\n",
    "  print(x)\n",
    "\n",
    "# sort the documents by multiple fields\n",
    "mydoc = mycol.find().sort([(\"name\", 1), (\"address\", -1)])\n",
    "for x in mydoc:\n",
    "  print(x)\n"
   ]
  },
  {
   "cell_type": "markdown",
   "id": "757b5d6c-8eac-4cee-995e-6554d449508c",
   "metadata": {},
   "source": [
    "Explain why delete_one(), delete_many(), and drop() is used."
   ]
  },
  {
   "cell_type": "markdown",
   "id": "dafa2307-b42f-4f49-ae52-76036cd47e2e",
   "metadata": {},
   "source": [
    "In MongoDB, delete_one(), delete_many(), and drop() are used to delete documents or collections from a database.\n",
    "\n",
    "The delete_one() method is used to delete a single document that matches a specified filter. It takes one parameter, which is a dictionary containing the filter criteria. If more than one document matches the filter criteria, only the first document found will be deleted.\n",
    "\n",
    "The delete_many() method is used to delete multiple documents that match a specified filter. It takes one parameter, which is a dictionary containing the filter criteria. All documents that match the filter criteria will be deleted.\n",
    "\n",
    "The drop() method is used to delete an entire collection from a database. It takes no parameters and simply drops the collection and all its associated data.\n",
    "\n",
    "These methods are useful for managing data in a MongoDB database. For example, if we need to remove a specific document or a set of documents that match a certain criteria, we can use delete_one() or delete_many() methods, respectively. On the other hand, if we need to delete an entire collection, we can use the drop() method. It's important to note that these operations are irreversible and should be used with caution. It's recommended to take backups before performing any data deletion operation.\n",
    "\n",
    "\n",
    "\n",
    "\n"
   ]
  },
  {
   "cell_type": "code",
   "execution_count": null,
   "id": "83510593-9f25-4007-8485-2c614731ed93",
   "metadata": {},
   "outputs": [],
   "source": []
  }
 ],
 "metadata": {
  "kernelspec": {
   "display_name": "Python 3 (ipykernel)",
   "language": "python",
   "name": "python3"
  },
  "language_info": {
   "codemirror_mode": {
    "name": "ipython",
    "version": 3
   },
   "file_extension": ".py",
   "mimetype": "text/x-python",
   "name": "python",
   "nbconvert_exporter": "python",
   "pygments_lexer": "ipython3",
   "version": "3.10.8"
  }
 },
 "nbformat": 4,
 "nbformat_minor": 5
}
