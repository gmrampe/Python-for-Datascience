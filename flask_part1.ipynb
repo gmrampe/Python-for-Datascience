{
 "cells": [
  {
   "cell_type": "code",
   "execution_count": 1,
   "id": "5186c18c-a970-47c3-ad0e-96bbd3d66a62",
   "metadata": {},
   "outputs": [
    {
     "data": {
      "text/plain": [
       "\"\\nFlask is a lightweight and flexible web framework for Python. It is designed to make it easy to build web applications, APIs, and microservices. Flask provides developers with tools and libraries that help to build web applications quickly and efficiently.\\n\\nAdvantages of Flask Framework:\\n\\nLightweight: Flask is a lightweight framework, which means it has a small footprint and low overhead. This makes it fast and easy to use, especially for smaller projects or APIs.\\n\\nFlexibility: Flask is a flexible framework, meaning it doesn't force you to use any specific ORM or template engine. You have the freedom to choose the tools you want to use and how you want to structure your application.\\n\\nEasy to learn: Flask is easy to learn and has a shallow learning curve compared to other web frameworks. It is a good choice for beginners or developers who want to get started with web development quickly.\\n\\nExtensibility: Flask is highly extensible, meaning you can add new functionality to your application by installing plugins or extensions. Flask has a large community of developers who have built many useful extensions that can be easily integrated into your application.\\n\\nTesting: Flask provides a built-in test client that makes it easy to write tests for your application. You can use this to write unit tests, integration tests, and end-to-end tests.\\n\\nGood documentation: Flask has excellent documentation, which makes it easy to learn and use. The documentation is comprehensive and includes many examples, making it easy to get started with Flask.\\n\""
      ]
     },
     "execution_count": 1,
     "metadata": {},
     "output_type": "execute_result"
    }
   ],
   "source": [
    "#What is Flask Framework? What are the advantages of Flask Framework?\n",
    "'''\n",
    "Flask is a lightweight and flexible web framework for Python. It is designed to make it easy to build web applications, APIs, and microservices. Flask provides developers with tools and libraries that help to build web applications quickly and efficiently.\n",
    "\n",
    "Advantages of Flask Framework:\n",
    "\n",
    "Lightweight: Flask is a lightweight framework, which means it has a small footprint and low overhead. This makes it fast and easy to use, especially for smaller projects or APIs.\n",
    "\n",
    "Flexibility: Flask is a flexible framework, meaning it doesn't force you to use any specific ORM or template engine. You have the freedom to choose the tools you want to use and how you want to structure your application.\n",
    "\n",
    "Easy to learn: Flask is easy to learn and has a shallow learning curve compared to other web frameworks. It is a good choice for beginners or developers who want to get started with web development quickly.\n",
    "\n",
    "Extensibility: Flask is highly extensible, meaning you can add new functionality to your application by installing plugins or extensions. Flask has a large community of developers who have built many useful extensions that can be easily integrated into your application.\n",
    "\n",
    "Testing: Flask provides a built-in test client that makes it easy to write tests for your application. You can use this to write unit tests, integration tests, and end-to-end tests.\n",
    "\n",
    "Good documentation: Flask has excellent documentation, which makes it easy to learn and use. The documentation is comprehensive and includes many examples, making it easy to get started with Flask.\n",
    "'''"
   ]
  },
  {
   "cell_type": "code",
   "execution_count": 4,
   "id": "ee611c23-3f63-4bff-a90d-8144fd743050",
   "metadata": {},
   "outputs": [
    {
     "data": {
      "text/plain": [
       "\"from flask import Flask\\n\\napplication = Flask(__name__)\\n@application.route('/')\\ndef first():\\n    \\n    return 'hello world'\\n\\nif __name__=='__main__':\\n    application.run()\""
      ]
     },
     "execution_count": 4,
     "metadata": {},
     "output_type": "execute_result"
    }
   ],
   "source": [
    "#Create a simple Flask application to display ‘Hello World!!’. Attach the screenshot of the output in Jupyter Notebook.\n",
    "'''from flask import Flask\n",
    "\n",
    "application = Flask(__name__)\n",
    "@application.route('/')\n",
    "def first():\n",
    "    \n",
    "    return 'hello world'\n",
    "\n",
    "if __name__=='__main__':\n",
    "    application.run()'''\n"
   ]
  },
  {
   "cell_type": "code",
   "execution_count": 5,
   "id": "3bb0aa20-99a5-475f-8f84-6e987ec96683",
   "metadata": {},
   "outputs": [
    {
     "data": {
      "text/plain": [
       "\"In Flask, routing refers to mapping URLs (Uniform Resource Locators) to functions that handle requests sent to those URLs. App routing is the process of defining these mappings in a Flask application.\\n\\nIn Flask, app routing is achieved using the @app.route() decorator. This decorator maps a URL to a Python function. The URL is specified as an argument to the decorator, and the function that handles the request is defined immediately below it.\\n\\n@app.route('/')\\ndef index():\\n    return 'Hello, World!'\\n    \\nIn this example, the @app.route() decorator maps the URL '/' (the root URL) to the index() function, which returns the string 'Hello, World!'.\\n\\nWe use app routes in Flask to define the behavior of our web application when a user makes a request to a specific URL. By defining app routes, we can tell our Flask application what to do when a user requests a certain page or performs a certain action.\\n\\nFor example, we might define an app route to handle a user login page, another app route to handle a user registration page, and so on. By using app routes, we can easily organize our application logic and keep our code modular and maintainable.\""
      ]
     },
     "execution_count": 5,
     "metadata": {},
     "output_type": "execute_result"
    }
   ],
   "source": [
    "#What is App routing in Flask? Why do we use app routes?\n",
    "'''In Flask, routing refers to mapping URLs (Uniform Resource Locators) to functions that handle requests sent to those URLs. App routing is the process of defining these mappings in a Flask application.\n",
    "\n",
    "In Flask, app routing is achieved using the @app.route() decorator. This decorator maps a URL to a Python function. The URL is specified as an argument to the decorator, and the function that handles the request is defined immediately below it.\n",
    "\n",
    "@app.route('/')\n",
    "def index():\n",
    "    return 'Hello, World!'\n",
    "    \n",
    "In this example, the @app.route() decorator maps the URL '/' (the root URL) to the index() function, which returns the string 'Hello, World!'.\n",
    "\n",
    "We use app routes in Flask to define the behavior of our web application when a user makes a request to a specific URL. By defining app routes, we can tell our Flask application what to do when a user requests a certain page or performs a certain action.\n",
    "\n",
    "For example, we might define an app route to handle a user login page, another app route to handle a user registration page, and so on. By using app routes, we can easily organize our application logic and keep our code modular and maintainable.'''\n"
   ]
  },
  {
   "cell_type": "raw",
   "id": "cb23c2ca-1901-479e-a7fb-709d8f61bc53",
   "metadata": {},
   "source": [
    "Create a “/welcome” route to display the welcome message “Welcome to ABC Corporation” and a “/”\n",
    "route to show the following details:\n",
    "Company Name: ABC Corporation\n",
    "Location: India\n",
    "Contact Detail: 999-999-9999'''"
   ]
  },
  {
   "cell_type": "code",
   "execution_count": null,
   "id": "bf73a068-7a6c-48c6-a025-8e622338ebea",
   "metadata": {},
   "outputs": [],
   "source": [
    "'''\n",
    "from flask import Flask\n",
    "\n",
    "app = Flask(__name__)\n",
    "\n",
    "@app.route('/welcome')\n",
    "def welcome():\n",
    "    return 'Welcome to ABC Corporation'\n",
    "\n",
    "@app.route('/')\n",
    "def index():\n",
    "    return 'Company Name: ABC Corporation <br> Location: India <br> Contact Detail: 999-999-9999'\n",
    "\n",
    "if __name__ == '__main__':\n",
    "    app.run()\n",
    "\n",
    "'''"
   ]
  },
  {
   "cell_type": "code",
   "execution_count": null,
   "id": "c8ef4a2a-33a3-412a-a0c1-d5d5d910c6ad",
   "metadata": {},
   "outputs": [],
   "source": [
    "#What function is used in Flask for URL Building? Write a Python code to demonstrate the working of the url_for() function.\n",
    "'''\n",
    "from flask import Flask, url_for\n",
    "\n",
    "app = Flask(__name__)\n",
    "\n",
    "@app.route('/')\n",
    "def index():\n",
    "    return 'Welcome to the home page!'\n",
    "\n",
    "@app.route('/user/<username>')\n",
    "def profile(username):\n",
    "    return f'Hello, {username}!'\n",
    "\n",
    "with app.test_request_context():\n",
    "    print(url_for('index'))\n",
    "    print(url_for('profile', username='John Doe'))\n",
    "'''"
   ]
  }
 ],
 "metadata": {
  "kernelspec": {
   "display_name": "Python 3 (ipykernel)",
   "language": "python",
   "name": "python3"
  },
  "language_info": {
   "codemirror_mode": {
    "name": "ipython",
    "version": 3
   },
   "file_extension": ".py",
   "mimetype": "text/x-python",
   "name": "python",
   "nbconvert_exporter": "python",
   "pygments_lexer": "ipython3",
   "version": "3.10.8"
  }
 },
 "nbformat": 4,
 "nbformat_minor": 5
}
